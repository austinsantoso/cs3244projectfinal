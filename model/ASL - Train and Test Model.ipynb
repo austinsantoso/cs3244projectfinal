{
 "cells": [
  {
   "cell_type": "markdown",
   "metadata": {},
   "source": [
    "# This notebook is used to train and test a model"
   ]
  },
  {
   "cell_type": "markdown",
   "metadata": {},
   "source": [
    "# Some constants"
   ]
  },
  {
   "cell_type": "code",
   "execution_count": 1,
   "metadata": {},
   "outputs": [],
   "source": [
    "nrows = 100\n",
    "ncolumns = 100\n",
    "batch_size = 50\n",
    "color_mode = 'grayscale'\n",
    "input_shape = (nrows, ncolumns, 1)\n",
    "nclass = 24"
   ]
  },
  {
   "cell_type": "markdown",
   "metadata": {},
   "source": [
    "# Define Model"
   ]
  },
  {
   "cell_type": "code",
   "execution_count": 2,
   "metadata": {},
   "outputs": [
    {
     "name": "stderr",
     "output_type": "stream",
     "text": [
      "Using TensorFlow backend.\n"
     ]
    }
   ],
   "source": [
    "from keras.models import Sequential \n",
    "from keras.layers import Dense, Activation, Dropout, Flatten, Conv2D, MaxPooling2D\n",
    "from keras.layers.normalization import BatchNormalization\n",
    "\n",
    "def from_paper(input_shape=(100,100,1),nclass=24):\n",
    "    model = Sequential()\n",
    "    \n",
    "    model.add(Conv2D(filters=16,\n",
    "                     input_shape=input_shape,\n",
    "                     kernel_size=(3, 3),\n",
    "                     activation='relu',\n",
    "                     padding='same'))\n",
    "    \n",
    "    model.add(MaxPooling2D(pool_size=(2, 2)))\n",
    "    \n",
    "    model.add(Conv2D(filters=32,\n",
    "                     kernel_size=(3, 3),\n",
    "                     activation='relu',\n",
    "                     padding='same'))\n",
    "    \n",
    "    model.add(MaxPooling2D(pool_size=(5, 5)))\n",
    "    \n",
    "    model.add(Conv2D(filters=64,\n",
    "                     kernel_size=(3, 3),\n",
    "                     activation='relu',\n",
    "                     padding='same'))\n",
    "    \n",
    "    model.add(MaxPooling2D(pool_size=(5, 5)))\n",
    "    \n",
    "    model.add(Dropout(0.2))\n",
    "    \n",
    "    model.add(Flatten())\n",
    "    \n",
    "    model.add(Dense(1024, activation='relu'))\n",
    "    \n",
    "    model.add(Dense(nclass, activation='softmax'))\n",
    "    \n",
    "    model.summary()\n",
    "    \n",
    "    model.compile(loss='categorical_crossentropy',\n",
    "                  optimizer='adam', metrics=['accuracy'])\n",
    "    \n",
    "    return model"
   ]
  },
  {
   "cell_type": "markdown",
   "metadata": {},
   "source": [
    "# Specify the Model"
   ]
  },
  {
   "cell_type": "code",
   "execution_count": 3,
   "metadata": {},
   "outputs": [
    {
     "name": "stdout",
     "output_type": "stream",
     "text": [
      "Model: \"sequential_1\"\n",
      "_________________________________________________________________\n",
      "Layer (type)                 Output Shape              Param #   \n",
      "=================================================================\n",
      "conv2d_1 (Conv2D)            (None, 100, 100, 16)      160       \n",
      "_________________________________________________________________\n",
      "max_pooling2d_1 (MaxPooling2 (None, 50, 50, 16)        0         \n",
      "_________________________________________________________________\n",
      "conv2d_2 (Conv2D)            (None, 50, 50, 32)        4640      \n",
      "_________________________________________________________________\n",
      "max_pooling2d_2 (MaxPooling2 (None, 10, 10, 32)        0         \n",
      "_________________________________________________________________\n",
      "conv2d_3 (Conv2D)            (None, 10, 10, 64)        18496     \n",
      "_________________________________________________________________\n",
      "max_pooling2d_3 (MaxPooling2 (None, 2, 2, 64)          0         \n",
      "_________________________________________________________________\n",
      "dropout_1 (Dropout)          (None, 2, 2, 64)          0         \n",
      "_________________________________________________________________\n",
      "flatten_1 (Flatten)          (None, 256)               0         \n",
      "_________________________________________________________________\n",
      "dense_1 (Dense)              (None, 1024)              263168    \n",
      "_________________________________________________________________\n",
      "dense_2 (Dense)              (None, 24)                24600     \n",
      "=================================================================\n",
      "Total params: 311,064\n",
      "Trainable params: 311,064\n",
      "Non-trainable params: 0\n",
      "_________________________________________________________________\n"
     ]
    }
   ],
   "source": [
    "model = from_paper((100,100,1), 24)"
   ]
  },
  {
   "cell_type": "code",
   "execution_count": 4,
   "metadata": {},
   "outputs": [
    {
     "name": "stdout",
     "output_type": "stream",
     "text": [
      "Data source: ../dataset/\n"
     ]
    }
   ],
   "source": [
    "picture_main_dir = '../dataset/'\n",
    "\n",
    "print(\"Data source: \" + picture_main_dir)"
   ]
  },
  {
   "cell_type": "markdown",
   "metadata": {},
   "source": [
    "# Specifying Training, Validation and Testing data"
   ]
  },
  {
   "cell_type": "code",
   "execution_count": 5,
   "metadata": {},
   "outputs": [],
   "source": [
    "from keras.preprocessing.image import ImageDataGenerator\n",
    "train_datagen =  ImageDataGenerator(rescale=1.0/255, \n",
    "                                    rotation_range=15,\n",
    "                                    zoom_range=0.2)\n",
    "\n",
    "val_datagen =  ImageDataGenerator(rescale=1.0/255)\n",
    "\n",
    "test_datagen =  ImageDataGenerator(rescale=1.0/255)"
   ]
  },
  {
   "cell_type": "code",
   "execution_count": 6,
   "metadata": {},
   "outputs": [
    {
     "name": "stdout",
     "output_type": "stream",
     "text": [
      "Found 24000 images belonging to 24 classes.\n",
      "Found 4800 images belonging to 24 classes.\n",
      "Found 4358 images belonging to 24 classes.\n"
     ]
    }
   ],
   "source": [
    "train_gen = train_datagen.flow_from_directory(directory= picture_main_dir + 'train/',\n",
    "                                              target_size=(nrows, ncolumns),\n",
    "                                              color_mode=color_mode,\n",
    "                                              batch_size=batch_size,\n",
    "                                              class_mode='categorical',\n",
    "                                              shuffle=False,\n",
    "                                              seed=0)\n",
    "val_gen = val_datagen.flow_from_directory(directory= picture_main_dir + 'val/',\n",
    "                                          target_size=(nrows, ncolumns),\n",
    "                                          color_mode=color_mode,\n",
    "                                          batch_size=batch_size,\n",
    "                                          class_mode='categorical',\n",
    "                                          shuffle=False,\n",
    "                                          seed=0)\n",
    "\n",
    "test_gen = test_datagen.flow_from_directory(directory= picture_main_dir + 'test/',\n",
    "                                            target_size=(nrows, ncolumns),\n",
    "                                            color_mode=color_mode,\n",
    "                                            batch_size=batch_size,\n",
    "                                            class_mode='categorical',\n",
    "                                            shuffle=False,\n",
    "                                            seed=0)"
   ]
  },
  {
   "cell_type": "markdown",
   "metadata": {},
   "source": [
    "# Training\n",
    "### Run this section only if you want to train a model, alternatively go to next section and load weights immediately\n",
    "#### By default this section is skipped"
   ]
  },
  {
   "cell_type": "code",
   "execution_count": 7,
   "metadata": {},
   "outputs": [],
   "source": [
    "from keras.callbacks import EarlyStopping, ReduceLROnPlateau, ModelCheckpoint\n",
    "filepath = 'weight file.h5'\n",
    "\n",
    "checkpoint = ModelCheckpoint(filepath, monitor='val_accuracy', \n",
    "                        verbose=1, save_best_only=True, mode='max')\n",
    "\n",
    "early = EarlyStopping(monitor='val_loss', \n",
    "                      mode='min', \n",
    "                      patience=40, restore_best_weights=True)\n",
    "\n",
    "callbacks_list = [checkpoint, early]\n"
   ]
  },
  {
   "cell_type": "code",
   "execution_count": 8,
   "metadata": {},
   "outputs": [],
   "source": [
    "# switch to True if you want to train.\n",
    "if False:\n",
    "    history = model.fit_generator(train_gen,\n",
    "                              steps_per_epoch=nclass*1000/batch_size,          \n",
    "                              validation_data=val_gen,\n",
    "                              validation_steps=batch_size, \n",
    "                              epochs=40, verbose=1,\n",
    "                              callbacks=callbacks_list)\n"
   ]
  },
  {
   "cell_type": "markdown",
   "metadata": {},
   "source": [
    "# Load Weights to the Model"
   ]
  },
  {
   "cell_type": "code",
   "execution_count": 9,
   "metadata": {},
   "outputs": [],
   "source": [
    "# Load weights\n",
    "model.load_weights('from_paper_model_weight.h5')"
   ]
  },
  {
   "cell_type": "markdown",
   "metadata": {},
   "source": [
    "# Test the model"
   ]
  },
  {
   "cell_type": "code",
   "execution_count": 10,
   "metadata": {},
   "outputs": [
    {
     "name": "stdout",
     "output_type": "stream",
     "text": [
      "96/96 [==============================] - 13s 131ms/step\n"
     ]
    },
    {
     "data": {
      "text/plain": [
       "[4.141217232245253e-06, 0.8777083158493042]"
      ]
     },
     "execution_count": 10,
     "metadata": {},
     "output_type": "execute_result"
    }
   ],
   "source": [
    "model.evaluate_generator(val_gen, verbose=1)"
   ]
  },
  {
   "cell_type": "code",
   "execution_count": 11,
   "metadata": {},
   "outputs": [
    {
     "name": "stdout",
     "output_type": "stream",
     "text": [
      "88/88 [==============================] - 14s 163ms/step\n"
     ]
    },
    {
     "data": {
      "text/plain": [
       "[4.172323428974778e-07, 0.8561266660690308]"
      ]
     },
     "execution_count": 11,
     "metadata": {},
     "output_type": "execute_result"
    }
   ],
   "source": [
    "model.evaluate_generator(test_gen, verbose=1)"
   ]
  },
  {
   "cell_type": "code",
   "execution_count": 12,
   "metadata": {},
   "outputs": [
    {
     "name": "stdout",
     "output_type": "stream",
     "text": [
      "480/480 [==============================] - 121s 251ms/step\n"
     ]
    },
    {
     "data": {
      "text/plain": [
       "[0.00013196583313401788, 0.9981250166893005]"
      ]
     },
     "execution_count": 12,
     "metadata": {},
     "output_type": "execute_result"
    }
   ],
   "source": [
    "# model.evaluate_generator(train_gen, verbose=1)"
   ]
  },
  {
   "cell_type": "markdown",
   "metadata": {},
   "source": [
    "# Letter-wise Prediction"
   ]
  },
  {
   "cell_type": "code",
   "execution_count": 21,
   "metadata": {},
   "outputs": [],
   "source": [
    "from string import ascii_uppercase\n",
    "alphabet = [c for c in ascii_uppercase if c not in \"JZ\"]"
   ]
  },
  {
   "cell_type": "markdown",
   "metadata": {},
   "source": [
    "## Letter wise for test data"
   ]
  },
  {
   "cell_type": "code",
   "execution_count": 22,
   "metadata": {},
   "outputs": [
    {
     "name": "stdout",
     "output_type": "stream",
     "text": [
      "88/88 [==============================] - 4s 45ms/step\n"
     ]
    }
   ],
   "source": [
    "predictions = model.predict_generator(test_gen, verbose=1)"
   ]
  },
  {
   "cell_type": "code",
   "execution_count": 23,
   "metadata": {},
   "outputs": [],
   "source": [
    "import numpy as np\n",
    "\n",
    "maxAllPredictions = list(map(lambda x: alphabet[np.argmax(x)], predictions))"
   ]
  },
  {
   "cell_type": "code",
   "execution_count": 24,
   "metadata": {},
   "outputs": [],
   "source": [
    "# Getting correct label for each picture\n",
    "\n",
    "import os\n",
    "test_dir=picture_main_dir + 'test/'\n",
    "letter_dir=test_dir+'{}'\n",
    "\n",
    "test=[i for i in os.listdir(test_dir)]\n",
    "test=[f for f in test if not f.endswith('DS_Store')]\n",
    "testResultArr = []\n",
    "for letter in test:\n",
    "    for f in os.listdir(letter_dir.format(letter)):\n",
    "        testResultArr += letter"
   ]
  },
  {
   "cell_type": "code",
   "execution_count": 25,
   "metadata": {},
   "outputs": [],
   "source": [
    "import pandas as pd"
   ]
  },
  {
   "cell_type": "markdown",
   "metadata": {},
   "source": [
    "### Creating the dataframe for each picture"
   ]
  },
  {
   "cell_type": "code",
   "execution_count": 26,
   "metadata": {},
   "outputs": [],
   "source": [
    "data = {'Predicted': maxAllPredictions,\n",
    "        'Actual': testResultArr\n",
    "        }\n",
    "\n",
    "df = pd.DataFrame(data, columns = ['Predicted', 'Actual'])"
   ]
  },
  {
   "cell_type": "code",
   "execution_count": 27,
   "metadata": {},
   "outputs": [],
   "source": [
    "output = []\n",
    "for letter in alphabet:\n",
    "    cur = df[df.Actual.eq(letter)]\n",
    "    correct = 0\n",
    "    totalForLetter = 0\n",
    "    for index, row in cur.iterrows():\n",
    "        totalForLetter += 1\n",
    "        if row['Predicted'] == row['Actual']:\n",
    "            correct += 1\n",
    "    output.append([letter, totalForLetter, correct, 1.0*correct/totalForLetter*100])"
   ]
  },
  {
   "cell_type": "code",
   "execution_count": 28,
   "metadata": {},
   "outputs": [
    {
     "name": "stdout",
     "output_type": "stream",
     "text": [
      "   letter  no. test data  correct predictions    accuracy\n",
      "0       A            162                  115   70.987654\n",
      "1       B            188                  157   83.510638\n",
      "2       C            169                  169  100.000000\n",
      "3       D            203                  193   95.073892\n",
      "4       E            214                  206   96.261682\n",
      "5       F            113                  113  100.000000\n",
      "6       G            205                  205  100.000000\n",
      "7       H            134                   55   41.044776\n",
      "8       I            142                  141   99.295775\n",
      "9       K            132                  130   98.484848\n",
      "10      L            175                  175  100.000000\n",
      "11      M            291                   70   24.054983\n",
      "12      N            171                   65   38.011696\n",
      "13      O            181                  181  100.000000\n",
      "14      P            143                  143  100.000000\n",
      "15      Q            208                  203   97.596154\n",
      "16      R            230                  230  100.000000\n",
      "17      S            129                  114   88.372093\n",
      "18      T            141                  141  100.000000\n",
      "19      U            217                  206   94.930876\n",
      "20      V            265                  227   85.660377\n",
      "21      W            210                  185   88.095238\n",
      "22      X            140                  112   80.000000\n",
      "23      Y            195                  195  100.000000\n"
     ]
    }
   ],
   "source": [
    "outputdf = pd.DataFrame(output, columns=['letter', 'no. test data', 'correct predictions', 'accuracy'])\n",
    "print (outputdf)"
   ]
  },
  {
   "cell_type": "code",
   "execution_count": null,
   "metadata": {},
   "outputs": [],
   "source": []
  }
 ],
 "metadata": {
  "kernelspec": {
   "display_name": "Python 3",
   "language": "python",
   "name": "python3"
  },
  "language_info": {
   "codemirror_mode": {
    "name": "ipython",
    "version": 3
   },
   "file_extension": ".py",
   "mimetype": "text/x-python",
   "name": "python",
   "nbconvert_exporter": "python",
   "pygments_lexer": "ipython3",
   "version": "3.7.3"
  }
 },
 "nbformat": 4,
 "nbformat_minor": 2
}
